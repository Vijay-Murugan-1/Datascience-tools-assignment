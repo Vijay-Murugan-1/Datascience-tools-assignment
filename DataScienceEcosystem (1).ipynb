{
 "cells": [
  {
   "cell_type": "markdown",
   "id": "3e6e78ac-f5df-44ac-8cfa-ab023e3b8279",
   "metadata": {},
   "source": [
    "# Data Science Tools and Ecosystem"
   ]
  },
  {
   "cell_type": "markdown",
   "id": "d35569c3-4802-4bcf-8964-484779b0cac9",
   "metadata": {},
   "source": [
    "In this notebook, Data Science Tools and Ecosystem are summarized."
   ]
  },
  {
   "cell_type": "markdown",
   "id": "9ce3a8ea-abf9-41c6-95cd-e2eaa2fa0f26",
   "metadata": {},
   "source": [
    "**Objectives**\n",
    "- List Popular languages for Data Science\n",
    "- List commonly used libraries for Data Science\n",
    "- List open-source Data Science Tools\n",
    "- Perform arithmetic operations using python\n",
    "- Share Jupyter Notebooks via GitHub"
   ]
  },
  {
   "cell_type": "markdown",
   "id": "6d4c8454-d3c6-4d79-9092-3cb9e3cecb73",
   "metadata": {},
   "source": [
    "Some of the popular languages that Data Scientists use are:\n",
    "1. Python\n",
    "2. SQL\n",
    "3. R\n",
    "4. Java \n",
    "5. Scala \n",
    "6. Julia"
   ]
  },
  {
   "cell_type": "markdown",
   "id": "58fa9265-e402-4282-8e51-7d25228c3804",
   "metadata": {},
   "source": [
    "Some of the commonly used libraries by the Data Scientsts include:\n",
    "1. dplyr\n",
    "2. ggplot\n",
    "3. caret\n",
    "4. sckitlearn\n",
    "5. keras\n",
    "6. pandas\n",
    "7. numpy\n"
   ]
  },
  {
   "cell_type": "markdown",
   "id": "8943ba23-8af5-48c4-a79c-073a853c8b7b",
   "metadata": {},
   "source": [
    "|**Data Science Tools**  |\n",
    "|-----------------------|\n",
    "| Jupyter Notebook      |\n",
    "| RStudio               |\n",
    "| Spyder                |"
   ]
  },
  {
   "cell_type": "markdown",
   "id": "7c6e4d17-74f7-4c29-a258-9754f2d77961",
   "metadata": {},
   "source": [
    "### Below are a few examples of evaluating arithmetic expressions in Python"
   ]
  },
  {
   "cell_type": "code",
   "execution_count": 5,
   "id": "4ddbf783-8b33-4e31-8731-0ea90bf6378b",
   "metadata": {},
   "outputs": [
    {
     "data": {
      "text/plain": [
       "17"
      ]
     },
     "execution_count": 5,
     "metadata": {},
     "output_type": "execute_result"
    }
   ],
   "source": [
    "#This a simple arithmetic expression to multiply then add integers\n",
    "(3*4)+5"
   ]
  },
  {
   "cell_type": "code",
   "execution_count": 6,
   "id": "34bfd567-4789-41b2-bbd0-d01e6dce5c06",
   "metadata": {},
   "outputs": [
    {
     "name": "stdout",
     "output_type": "stream",
     "text": [
      "3.3333333333333335 hours\n"
     ]
    }
   ],
   "source": [
    "# Converting minutes to hours('This will convert 200 minutes to hours by dividing by 60')\n",
    "print(200/60,\"hours\")"
   ]
  },
  {
   "cell_type": "markdown",
   "id": "13314e54-bf08-48cd-8473-2a82af104ecb",
   "metadata": {},
   "source": [
    "## Author\n",
    "Vijay B V "
   ]
  }
 ],
 "metadata": {
  "kernelspec": {
   "display_name": "Python 3 (ipykernel)",
   "language": "python",
   "name": "python3"
  },
  "language_info": {
   "codemirror_mode": {
    "name": "ipython",
    "version": 3
   },
   "file_extension": ".py",
   "mimetype": "text/x-python",
   "name": "python",
   "nbconvert_exporter": "python",
   "pygments_lexer": "ipython3",
   "version": "3.12.8"
  }
 },
 "nbformat": 4,
 "nbformat_minor": 5
}
